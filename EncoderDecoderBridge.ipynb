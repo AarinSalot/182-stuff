{
  "nbformat": 4,
  "nbformat_minor": 0,
  "metadata": {
    "colab": {
      "provenance": [],
      "include_colab_link": true
    },
    "kernelspec": {
      "name": "python3",
      "display_name": "Python 3"
    },
    "language_info": {
      "name": "python"
    },
    "widgets": {
      "application/vnd.jupyter.widget-state+json": {
        "8b54691efec244d08016eb05f4456a1e": {
          "model_module": "@jupyter-widgets/controls",
          "model_name": "VBoxModel",
          "model_module_version": "1.5.0",
          "state": {
            "_dom_classes": [],
            "_model_module": "@jupyter-widgets/controls",
            "_model_module_version": "1.5.0",
            "_model_name": "VBoxModel",
            "_view_count": null,
            "_view_module": "@jupyter-widgets/controls",
            "_view_module_version": "1.5.0",
            "_view_name": "VBoxView",
            "box_style": "",
            "children": [
              "IPY_MODEL_05f561e1da0a4dc7b954af0048b85eda",
              "IPY_MODEL_1c855a3adef74646a17e470581b2fa29",
              "IPY_MODEL_e5c9a33099ae44c4bca52687ae1e7fc6",
              "IPY_MODEL_216a87b45b6449a9b8ec0c3e45ed3940",
              "IPY_MODEL_a06dd8ccb8b34116b6002dca75593704"
            ],
            "layout": "IPY_MODEL_c4d344b46f1d409e93c1e6a6c4bbcdfc"
          }
        },
        "05f561e1da0a4dc7b954af0048b85eda": {
          "model_module": "@jupyter-widgets/controls",
          "model_name": "HTMLModel",
          "model_module_version": "1.5.0",
          "state": {
            "_dom_classes": [],
            "_model_module": "@jupyter-widgets/controls",
            "_model_module_version": "1.5.0",
            "_model_name": "HTMLModel",
            "_view_count": null,
            "_view_module": "@jupyter-widgets/controls",
            "_view_module_version": "1.5.0",
            "_view_name": "HTMLView",
            "description": "",
            "description_tooltip": null,
            "layout": "IPY_MODEL_79c79b5931534175b9f23daa7ae9653e",
            "placeholder": "​",
            "style": "IPY_MODEL_f18ba0fa74a946c08dfd9c9d0fe8b541",
            "value": "<center> <img\nsrc=https://huggingface.co/front/assets/huggingface_logo-noborder.svg\nalt='Hugging Face'> <br> Copy a token from <a\nhref=\"https://huggingface.co/settings/tokens\" target=\"_blank\">your Hugging Face\ntokens page</a> and paste it below. <br> Immediately click login after copying\nyour token or it might be stored in plain text in this notebook file. </center>"
          }
        },
        "1c855a3adef74646a17e470581b2fa29": {
          "model_module": "@jupyter-widgets/controls",
          "model_name": "PasswordModel",
          "model_module_version": "1.5.0",
          "state": {
            "_dom_classes": [],
            "_model_module": "@jupyter-widgets/controls",
            "_model_module_version": "1.5.0",
            "_model_name": "PasswordModel",
            "_view_count": null,
            "_view_module": "@jupyter-widgets/controls",
            "_view_module_version": "1.5.0",
            "_view_name": "PasswordView",
            "continuous_update": true,
            "description": "Token:",
            "description_tooltip": null,
            "disabled": false,
            "layout": "IPY_MODEL_8c0dd30d76eb4b24afa95e39c07b381c",
            "placeholder": "​",
            "style": "IPY_MODEL_cfab69d3a7774f1e9d3dce633a059ea4",
            "value": ""
          }
        },
        "e5c9a33099ae44c4bca52687ae1e7fc6": {
          "model_module": "@jupyter-widgets/controls",
          "model_name": "CheckboxModel",
          "model_module_version": "1.5.0",
          "state": {
            "_dom_classes": [],
            "_model_module": "@jupyter-widgets/controls",
            "_model_module_version": "1.5.0",
            "_model_name": "CheckboxModel",
            "_view_count": null,
            "_view_module": "@jupyter-widgets/controls",
            "_view_module_version": "1.5.0",
            "_view_name": "CheckboxView",
            "description": "Add token as git credential?",
            "description_tooltip": null,
            "disabled": false,
            "indent": true,
            "layout": "IPY_MODEL_ad93ecb6b9cb456986c41b794f2ddee7",
            "style": "IPY_MODEL_ebaea7f169b1414daca7230805beb69b",
            "value": true
          }
        },
        "216a87b45b6449a9b8ec0c3e45ed3940": {
          "model_module": "@jupyter-widgets/controls",
          "model_name": "ButtonModel",
          "model_module_version": "1.5.0",
          "state": {
            "_dom_classes": [],
            "_model_module": "@jupyter-widgets/controls",
            "_model_module_version": "1.5.0",
            "_model_name": "ButtonModel",
            "_view_count": null,
            "_view_module": "@jupyter-widgets/controls",
            "_view_module_version": "1.5.0",
            "_view_name": "ButtonView",
            "button_style": "",
            "description": "Login",
            "disabled": false,
            "icon": "",
            "layout": "IPY_MODEL_68e96e33967f45798d863ab08b913ddd",
            "style": "IPY_MODEL_04bce514080a494d85e29ac0b0e9388b",
            "tooltip": ""
          }
        },
        "a06dd8ccb8b34116b6002dca75593704": {
          "model_module": "@jupyter-widgets/controls",
          "model_name": "HTMLModel",
          "model_module_version": "1.5.0",
          "state": {
            "_dom_classes": [],
            "_model_module": "@jupyter-widgets/controls",
            "_model_module_version": "1.5.0",
            "_model_name": "HTMLModel",
            "_view_count": null,
            "_view_module": "@jupyter-widgets/controls",
            "_view_module_version": "1.5.0",
            "_view_name": "HTMLView",
            "description": "",
            "description_tooltip": null,
            "layout": "IPY_MODEL_f7cbc337012b46aaaab3641894d9f5e0",
            "placeholder": "​",
            "style": "IPY_MODEL_b8cdc3218525457daeed61d03d6d6ccf",
            "value": "\n<b>Pro Tip:</b> If you don't already have one, you can create a dedicated\n'notebooks' token with 'write' access, that you can then easily reuse for all\nnotebooks. </center>"
          }
        },
        "c4d344b46f1d409e93c1e6a6c4bbcdfc": {
          "model_module": "@jupyter-widgets/base",
          "model_name": "LayoutModel",
          "model_module_version": "1.2.0",
          "state": {
            "_model_module": "@jupyter-widgets/base",
            "_model_module_version": "1.2.0",
            "_model_name": "LayoutModel",
            "_view_count": null,
            "_view_module": "@jupyter-widgets/base",
            "_view_module_version": "1.2.0",
            "_view_name": "LayoutView",
            "align_content": null,
            "align_items": "center",
            "align_self": null,
            "border": null,
            "bottom": null,
            "display": "flex",
            "flex": null,
            "flex_flow": "column",
            "grid_area": null,
            "grid_auto_columns": null,
            "grid_auto_flow": null,
            "grid_auto_rows": null,
            "grid_column": null,
            "grid_gap": null,
            "grid_row": null,
            "grid_template_areas": null,
            "grid_template_columns": null,
            "grid_template_rows": null,
            "height": null,
            "justify_content": null,
            "justify_items": null,
            "left": null,
            "margin": null,
            "max_height": null,
            "max_width": null,
            "min_height": null,
            "min_width": null,
            "object_fit": null,
            "object_position": null,
            "order": null,
            "overflow": null,
            "overflow_x": null,
            "overflow_y": null,
            "padding": null,
            "right": null,
            "top": null,
            "visibility": null,
            "width": "50%"
          }
        },
        "79c79b5931534175b9f23daa7ae9653e": {
          "model_module": "@jupyter-widgets/base",
          "model_name": "LayoutModel",
          "model_module_version": "1.2.0",
          "state": {
            "_model_module": "@jupyter-widgets/base",
            "_model_module_version": "1.2.0",
            "_model_name": "LayoutModel",
            "_view_count": null,
            "_view_module": "@jupyter-widgets/base",
            "_view_module_version": "1.2.0",
            "_view_name": "LayoutView",
            "align_content": null,
            "align_items": null,
            "align_self": null,
            "border": null,
            "bottom": null,
            "display": null,
            "flex": null,
            "flex_flow": null,
            "grid_area": null,
            "grid_auto_columns": null,
            "grid_auto_flow": null,
            "grid_auto_rows": null,
            "grid_column": null,
            "grid_gap": null,
            "grid_row": null,
            "grid_template_areas": null,
            "grid_template_columns": null,
            "grid_template_rows": null,
            "height": null,
            "justify_content": null,
            "justify_items": null,
            "left": null,
            "margin": null,
            "max_height": null,
            "max_width": null,
            "min_height": null,
            "min_width": null,
            "object_fit": null,
            "object_position": null,
            "order": null,
            "overflow": null,
            "overflow_x": null,
            "overflow_y": null,
            "padding": null,
            "right": null,
            "top": null,
            "visibility": null,
            "width": null
          }
        },
        "f18ba0fa74a946c08dfd9c9d0fe8b541": {
          "model_module": "@jupyter-widgets/controls",
          "model_name": "DescriptionStyleModel",
          "model_module_version": "1.5.0",
          "state": {
            "_model_module": "@jupyter-widgets/controls",
            "_model_module_version": "1.5.0",
            "_model_name": "DescriptionStyleModel",
            "_view_count": null,
            "_view_module": "@jupyter-widgets/base",
            "_view_module_version": "1.2.0",
            "_view_name": "StyleView",
            "description_width": ""
          }
        },
        "8c0dd30d76eb4b24afa95e39c07b381c": {
          "model_module": "@jupyter-widgets/base",
          "model_name": "LayoutModel",
          "model_module_version": "1.2.0",
          "state": {
            "_model_module": "@jupyter-widgets/base",
            "_model_module_version": "1.2.0",
            "_model_name": "LayoutModel",
            "_view_count": null,
            "_view_module": "@jupyter-widgets/base",
            "_view_module_version": "1.2.0",
            "_view_name": "LayoutView",
            "align_content": null,
            "align_items": null,
            "align_self": null,
            "border": null,
            "bottom": null,
            "display": null,
            "flex": null,
            "flex_flow": null,
            "grid_area": null,
            "grid_auto_columns": null,
            "grid_auto_flow": null,
            "grid_auto_rows": null,
            "grid_column": null,
            "grid_gap": null,
            "grid_row": null,
            "grid_template_areas": null,
            "grid_template_columns": null,
            "grid_template_rows": null,
            "height": null,
            "justify_content": null,
            "justify_items": null,
            "left": null,
            "margin": null,
            "max_height": null,
            "max_width": null,
            "min_height": null,
            "min_width": null,
            "object_fit": null,
            "object_position": null,
            "order": null,
            "overflow": null,
            "overflow_x": null,
            "overflow_y": null,
            "padding": null,
            "right": null,
            "top": null,
            "visibility": null,
            "width": null
          }
        },
        "cfab69d3a7774f1e9d3dce633a059ea4": {
          "model_module": "@jupyter-widgets/controls",
          "model_name": "DescriptionStyleModel",
          "model_module_version": "1.5.0",
          "state": {
            "_model_module": "@jupyter-widgets/controls",
            "_model_module_version": "1.5.0",
            "_model_name": "DescriptionStyleModel",
            "_view_count": null,
            "_view_module": "@jupyter-widgets/base",
            "_view_module_version": "1.2.0",
            "_view_name": "StyleView",
            "description_width": ""
          }
        },
        "ad93ecb6b9cb456986c41b794f2ddee7": {
          "model_module": "@jupyter-widgets/base",
          "model_name": "LayoutModel",
          "model_module_version": "1.2.0",
          "state": {
            "_model_module": "@jupyter-widgets/base",
            "_model_module_version": "1.2.0",
            "_model_name": "LayoutModel",
            "_view_count": null,
            "_view_module": "@jupyter-widgets/base",
            "_view_module_version": "1.2.0",
            "_view_name": "LayoutView",
            "align_content": null,
            "align_items": null,
            "align_self": null,
            "border": null,
            "bottom": null,
            "display": null,
            "flex": null,
            "flex_flow": null,
            "grid_area": null,
            "grid_auto_columns": null,
            "grid_auto_flow": null,
            "grid_auto_rows": null,
            "grid_column": null,
            "grid_gap": null,
            "grid_row": null,
            "grid_template_areas": null,
            "grid_template_columns": null,
            "grid_template_rows": null,
            "height": null,
            "justify_content": null,
            "justify_items": null,
            "left": null,
            "margin": null,
            "max_height": null,
            "max_width": null,
            "min_height": null,
            "min_width": null,
            "object_fit": null,
            "object_position": null,
            "order": null,
            "overflow": null,
            "overflow_x": null,
            "overflow_y": null,
            "padding": null,
            "right": null,
            "top": null,
            "visibility": null,
            "width": null
          }
        },
        "ebaea7f169b1414daca7230805beb69b": {
          "model_module": "@jupyter-widgets/controls",
          "model_name": "DescriptionStyleModel",
          "model_module_version": "1.5.0",
          "state": {
            "_model_module": "@jupyter-widgets/controls",
            "_model_module_version": "1.5.0",
            "_model_name": "DescriptionStyleModel",
            "_view_count": null,
            "_view_module": "@jupyter-widgets/base",
            "_view_module_version": "1.2.0",
            "_view_name": "StyleView",
            "description_width": ""
          }
        },
        "68e96e33967f45798d863ab08b913ddd": {
          "model_module": "@jupyter-widgets/base",
          "model_name": "LayoutModel",
          "model_module_version": "1.2.0",
          "state": {
            "_model_module": "@jupyter-widgets/base",
            "_model_module_version": "1.2.0",
            "_model_name": "LayoutModel",
            "_view_count": null,
            "_view_module": "@jupyter-widgets/base",
            "_view_module_version": "1.2.0",
            "_view_name": "LayoutView",
            "align_content": null,
            "align_items": null,
            "align_self": null,
            "border": null,
            "bottom": null,
            "display": null,
            "flex": null,
            "flex_flow": null,
            "grid_area": null,
            "grid_auto_columns": null,
            "grid_auto_flow": null,
            "grid_auto_rows": null,
            "grid_column": null,
            "grid_gap": null,
            "grid_row": null,
            "grid_template_areas": null,
            "grid_template_columns": null,
            "grid_template_rows": null,
            "height": null,
            "justify_content": null,
            "justify_items": null,
            "left": null,
            "margin": null,
            "max_height": null,
            "max_width": null,
            "min_height": null,
            "min_width": null,
            "object_fit": null,
            "object_position": null,
            "order": null,
            "overflow": null,
            "overflow_x": null,
            "overflow_y": null,
            "padding": null,
            "right": null,
            "top": null,
            "visibility": null,
            "width": null
          }
        },
        "04bce514080a494d85e29ac0b0e9388b": {
          "model_module": "@jupyter-widgets/controls",
          "model_name": "ButtonStyleModel",
          "model_module_version": "1.5.0",
          "state": {
            "_model_module": "@jupyter-widgets/controls",
            "_model_module_version": "1.5.0",
            "_model_name": "ButtonStyleModel",
            "_view_count": null,
            "_view_module": "@jupyter-widgets/base",
            "_view_module_version": "1.2.0",
            "_view_name": "StyleView",
            "button_color": null,
            "font_weight": ""
          }
        },
        "f7cbc337012b46aaaab3641894d9f5e0": {
          "model_module": "@jupyter-widgets/base",
          "model_name": "LayoutModel",
          "model_module_version": "1.2.0",
          "state": {
            "_model_module": "@jupyter-widgets/base",
            "_model_module_version": "1.2.0",
            "_model_name": "LayoutModel",
            "_view_count": null,
            "_view_module": "@jupyter-widgets/base",
            "_view_module_version": "1.2.0",
            "_view_name": "LayoutView",
            "align_content": null,
            "align_items": null,
            "align_self": null,
            "border": null,
            "bottom": null,
            "display": null,
            "flex": null,
            "flex_flow": null,
            "grid_area": null,
            "grid_auto_columns": null,
            "grid_auto_flow": null,
            "grid_auto_rows": null,
            "grid_column": null,
            "grid_gap": null,
            "grid_row": null,
            "grid_template_areas": null,
            "grid_template_columns": null,
            "grid_template_rows": null,
            "height": null,
            "justify_content": null,
            "justify_items": null,
            "left": null,
            "margin": null,
            "max_height": null,
            "max_width": null,
            "min_height": null,
            "min_width": null,
            "object_fit": null,
            "object_position": null,
            "order": null,
            "overflow": null,
            "overflow_x": null,
            "overflow_y": null,
            "padding": null,
            "right": null,
            "top": null,
            "visibility": null,
            "width": null
          }
        },
        "b8cdc3218525457daeed61d03d6d6ccf": {
          "model_module": "@jupyter-widgets/controls",
          "model_name": "DescriptionStyleModel",
          "model_module_version": "1.5.0",
          "state": {
            "_model_module": "@jupyter-widgets/controls",
            "_model_module_version": "1.5.0",
            "_model_name": "DescriptionStyleModel",
            "_view_count": null,
            "_view_module": "@jupyter-widgets/base",
            "_view_module_version": "1.2.0",
            "_view_name": "StyleView",
            "description_width": ""
          }
        },
        "e0e0abc7fe114d88bacbb678e7e11a88": {
          "model_module": "@jupyter-widgets/controls",
          "model_name": "HBoxModel",
          "model_module_version": "1.5.0",
          "state": {
            "_dom_classes": [],
            "_model_module": "@jupyter-widgets/controls",
            "_model_module_version": "1.5.0",
            "_model_name": "HBoxModel",
            "_view_count": null,
            "_view_module": "@jupyter-widgets/controls",
            "_view_module_version": "1.5.0",
            "_view_name": "HBoxView",
            "box_style": "",
            "children": [
              "IPY_MODEL_ed8dfc908285477db74da6ced1cdec04",
              "IPY_MODEL_d2887988dd26424fa2b987d0b1d478f5",
              "IPY_MODEL_fb201ce6c8d743ee9acadfb816ca5f75"
            ],
            "layout": "IPY_MODEL_c53381b9564c4fdebf9cc291496e190a"
          }
        },
        "ed8dfc908285477db74da6ced1cdec04": {
          "model_module": "@jupyter-widgets/controls",
          "model_name": "HTMLModel",
          "model_module_version": "1.5.0",
          "state": {
            "_dom_classes": [],
            "_model_module": "@jupyter-widgets/controls",
            "_model_module_version": "1.5.0",
            "_model_name": "HTMLModel",
            "_view_count": null,
            "_view_module": "@jupyter-widgets/controls",
            "_view_module_version": "1.5.0",
            "_view_name": "HTMLView",
            "description": "",
            "description_tooltip": null,
            "layout": "IPY_MODEL_c1b67d433ea7419882a6162ddd9ca998",
            "placeholder": "​",
            "style": "IPY_MODEL_029dfe719f924ea690211311352016cd",
            "value": "Resolving data files: 100%"
          }
        },
        "d2887988dd26424fa2b987d0b1d478f5": {
          "model_module": "@jupyter-widgets/controls",
          "model_name": "FloatProgressModel",
          "model_module_version": "1.5.0",
          "state": {
            "_dom_classes": [],
            "_model_module": "@jupyter-widgets/controls",
            "_model_module_version": "1.5.0",
            "_model_name": "FloatProgressModel",
            "_view_count": null,
            "_view_module": "@jupyter-widgets/controls",
            "_view_module_version": "1.5.0",
            "_view_name": "ProgressView",
            "bar_style": "success",
            "description": "",
            "description_tooltip": null,
            "layout": "IPY_MODEL_2572c3144779408e9b13fc41729acf7b",
            "max": 128,
            "min": 0,
            "orientation": "horizontal",
            "style": "IPY_MODEL_c3dd4b468f5342b08e6c7f70ad7ba141",
            "value": 128
          }
        },
        "fb201ce6c8d743ee9acadfb816ca5f75": {
          "model_module": "@jupyter-widgets/controls",
          "model_name": "HTMLModel",
          "model_module_version": "1.5.0",
          "state": {
            "_dom_classes": [],
            "_model_module": "@jupyter-widgets/controls",
            "_model_module_version": "1.5.0",
            "_model_name": "HTMLModel",
            "_view_count": null,
            "_view_module": "@jupyter-widgets/controls",
            "_view_module_version": "1.5.0",
            "_view_name": "HTMLView",
            "description": "",
            "description_tooltip": null,
            "layout": "IPY_MODEL_ecf6908639e2461d9ebdbc769e50237a",
            "placeholder": "​",
            "style": "IPY_MODEL_788533b3fe964fc28b5db7566122b9cf",
            "value": " 128/128 [00:01&lt;00:00,  4.34it/s]"
          }
        },
        "c53381b9564c4fdebf9cc291496e190a": {
          "model_module": "@jupyter-widgets/base",
          "model_name": "LayoutModel",
          "model_module_version": "1.2.0",
          "state": {
            "_model_module": "@jupyter-widgets/base",
            "_model_module_version": "1.2.0",
            "_model_name": "LayoutModel",
            "_view_count": null,
            "_view_module": "@jupyter-widgets/base",
            "_view_module_version": "1.2.0",
            "_view_name": "LayoutView",
            "align_content": null,
            "align_items": null,
            "align_self": null,
            "border": null,
            "bottom": null,
            "display": null,
            "flex": null,
            "flex_flow": null,
            "grid_area": null,
            "grid_auto_columns": null,
            "grid_auto_flow": null,
            "grid_auto_rows": null,
            "grid_column": null,
            "grid_gap": null,
            "grid_row": null,
            "grid_template_areas": null,
            "grid_template_columns": null,
            "grid_template_rows": null,
            "height": null,
            "justify_content": null,
            "justify_items": null,
            "left": null,
            "margin": null,
            "max_height": null,
            "max_width": null,
            "min_height": null,
            "min_width": null,
            "object_fit": null,
            "object_position": null,
            "order": null,
            "overflow": null,
            "overflow_x": null,
            "overflow_y": null,
            "padding": null,
            "right": null,
            "top": null,
            "visibility": null,
            "width": null
          }
        },
        "c1b67d433ea7419882a6162ddd9ca998": {
          "model_module": "@jupyter-widgets/base",
          "model_name": "LayoutModel",
          "model_module_version": "1.2.0",
          "state": {
            "_model_module": "@jupyter-widgets/base",
            "_model_module_version": "1.2.0",
            "_model_name": "LayoutModel",
            "_view_count": null,
            "_view_module": "@jupyter-widgets/base",
            "_view_module_version": "1.2.0",
            "_view_name": "LayoutView",
            "align_content": null,
            "align_items": null,
            "align_self": null,
            "border": null,
            "bottom": null,
            "display": null,
            "flex": null,
            "flex_flow": null,
            "grid_area": null,
            "grid_auto_columns": null,
            "grid_auto_flow": null,
            "grid_auto_rows": null,
            "grid_column": null,
            "grid_gap": null,
            "grid_row": null,
            "grid_template_areas": null,
            "grid_template_columns": null,
            "grid_template_rows": null,
            "height": null,
            "justify_content": null,
            "justify_items": null,
            "left": null,
            "margin": null,
            "max_height": null,
            "max_width": null,
            "min_height": null,
            "min_width": null,
            "object_fit": null,
            "object_position": null,
            "order": null,
            "overflow": null,
            "overflow_x": null,
            "overflow_y": null,
            "padding": null,
            "right": null,
            "top": null,
            "visibility": null,
            "width": null
          }
        },
        "029dfe719f924ea690211311352016cd": {
          "model_module": "@jupyter-widgets/controls",
          "model_name": "DescriptionStyleModel",
          "model_module_version": "1.5.0",
          "state": {
            "_model_module": "@jupyter-widgets/controls",
            "_model_module_version": "1.5.0",
            "_model_name": "DescriptionStyleModel",
            "_view_count": null,
            "_view_module": "@jupyter-widgets/base",
            "_view_module_version": "1.2.0",
            "_view_name": "StyleView",
            "description_width": ""
          }
        },
        "2572c3144779408e9b13fc41729acf7b": {
          "model_module": "@jupyter-widgets/base",
          "model_name": "LayoutModel",
          "model_module_version": "1.2.0",
          "state": {
            "_model_module": "@jupyter-widgets/base",
            "_model_module_version": "1.2.0",
            "_model_name": "LayoutModel",
            "_view_count": null,
            "_view_module": "@jupyter-widgets/base",
            "_view_module_version": "1.2.0",
            "_view_name": "LayoutView",
            "align_content": null,
            "align_items": null,
            "align_self": null,
            "border": null,
            "bottom": null,
            "display": null,
            "flex": null,
            "flex_flow": null,
            "grid_area": null,
            "grid_auto_columns": null,
            "grid_auto_flow": null,
            "grid_auto_rows": null,
            "grid_column": null,
            "grid_gap": null,
            "grid_row": null,
            "grid_template_areas": null,
            "grid_template_columns": null,
            "grid_template_rows": null,
            "height": null,
            "justify_content": null,
            "justify_items": null,
            "left": null,
            "margin": null,
            "max_height": null,
            "max_width": null,
            "min_height": null,
            "min_width": null,
            "object_fit": null,
            "object_position": null,
            "order": null,
            "overflow": null,
            "overflow_x": null,
            "overflow_y": null,
            "padding": null,
            "right": null,
            "top": null,
            "visibility": null,
            "width": null
          }
        },
        "c3dd4b468f5342b08e6c7f70ad7ba141": {
          "model_module": "@jupyter-widgets/controls",
          "model_name": "ProgressStyleModel",
          "model_module_version": "1.5.0",
          "state": {
            "_model_module": "@jupyter-widgets/controls",
            "_model_module_version": "1.5.0",
            "_model_name": "ProgressStyleModel",
            "_view_count": null,
            "_view_module": "@jupyter-widgets/base",
            "_view_module_version": "1.2.0",
            "_view_name": "StyleView",
            "bar_color": null,
            "description_width": ""
          }
        },
        "ecf6908639e2461d9ebdbc769e50237a": {
          "model_module": "@jupyter-widgets/base",
          "model_name": "LayoutModel",
          "model_module_version": "1.2.0",
          "state": {
            "_model_module": "@jupyter-widgets/base",
            "_model_module_version": "1.2.0",
            "_model_name": "LayoutModel",
            "_view_count": null,
            "_view_module": "@jupyter-widgets/base",
            "_view_module_version": "1.2.0",
            "_view_name": "LayoutView",
            "align_content": null,
            "align_items": null,
            "align_self": null,
            "border": null,
            "bottom": null,
            "display": null,
            "flex": null,
            "flex_flow": null,
            "grid_area": null,
            "grid_auto_columns": null,
            "grid_auto_flow": null,
            "grid_auto_rows": null,
            "grid_column": null,
            "grid_gap": null,
            "grid_row": null,
            "grid_template_areas": null,
            "grid_template_columns": null,
            "grid_template_rows": null,
            "height": null,
            "justify_content": null,
            "justify_items": null,
            "left": null,
            "margin": null,
            "max_height": null,
            "max_width": null,
            "min_height": null,
            "min_width": null,
            "object_fit": null,
            "object_position": null,
            "order": null,
            "overflow": null,
            "overflow_x": null,
            "overflow_y": null,
            "padding": null,
            "right": null,
            "top": null,
            "visibility": null,
            "width": null
          }
        },
        "788533b3fe964fc28b5db7566122b9cf": {
          "model_module": "@jupyter-widgets/controls",
          "model_name": "DescriptionStyleModel",
          "model_module_version": "1.5.0",
          "state": {
            "_model_module": "@jupyter-widgets/controls",
            "_model_module_version": "1.5.0",
            "_model_name": "DescriptionStyleModel",
            "_view_count": null,
            "_view_module": "@jupyter-widgets/base",
            "_view_module_version": "1.2.0",
            "_view_name": "StyleView",
            "description_width": ""
          }
        }
      }
    }
  },
  "cells": [
    {
      "cell_type": "markdown",
      "metadata": {
        "id": "view-in-github",
        "colab_type": "text"
      },
      "source": [
        "<a href=\"https://colab.research.google.com/github/AarinSalot/182-stuff/blob/main/EncoderDecoderBridge.ipynb\" target=\"_parent\"><img src=\"https://colab.research.google.com/assets/colab-badge.svg\" alt=\"Open In Colab\"/></a>"
      ]
    },
    {
      "cell_type": "code",
      "execution_count": 1,
      "metadata": {
        "id": "5xaMuTCAcwT7"
      },
      "outputs": [],
      "source": [
        "import torch\n",
        "import numpy as np\n",
        "import torch.nn as nn\n",
        "import torch.nn.functional as F\n",
        "import os\n",
        "import pandas as pd\n",
        "from transformers import MambaConfig, Mamba2Model, Mamba2ForCausalLM, AutoModel, AutoTokenizer\n",
        "from IPython.display import display\n",
        "from transformers import ViTConfig, ViTModel, get_scheduler\n",
        "from tqdm import tqdm\n"
      ]
    },
    {
      "cell_type": "markdown",
      "source": [],
      "metadata": {
        "id": "pZ_bO23SqO8J"
      }
    },
    {
      "cell_type": "code",
      "source": [
        "!pip install datasets"
      ],
      "metadata": {
        "colab": {
          "base_uri": "https://localhost:8080/",
          "height": 0
        },
        "id": "nkYpNUeFdDe_",
        "outputId": "16114ca7-3715-46ec-e838-956cd98dd340"
      },
      "execution_count": 2,
      "outputs": [
        {
          "output_type": "stream",
          "name": "stdout",
          "text": [
            "Requirement already satisfied: datasets in /usr/local/lib/python3.11/dist-packages (3.5.0)\n",
            "Requirement already satisfied: filelock in /usr/local/lib/python3.11/dist-packages (from datasets) (3.18.0)\n",
            "Requirement already satisfied: numpy>=1.17 in /usr/local/lib/python3.11/dist-packages (from datasets) (2.0.2)\n",
            "Requirement already satisfied: pyarrow>=15.0.0 in /usr/local/lib/python3.11/dist-packages (from datasets) (18.1.0)\n",
            "Requirement already satisfied: dill<0.3.9,>=0.3.0 in /usr/local/lib/python3.11/dist-packages (from datasets) (0.3.8)\n",
            "Requirement already satisfied: pandas in /usr/local/lib/python3.11/dist-packages (from datasets) (2.2.2)\n",
            "Requirement already satisfied: requests>=2.32.2 in /usr/local/lib/python3.11/dist-packages (from datasets) (2.32.3)\n",
            "Requirement already satisfied: tqdm>=4.66.3 in /usr/local/lib/python3.11/dist-packages (from datasets) (4.67.1)\n",
            "Requirement already satisfied: xxhash in /usr/local/lib/python3.11/dist-packages (from datasets) (3.5.0)\n",
            "Requirement already satisfied: multiprocess<0.70.17 in /usr/local/lib/python3.11/dist-packages (from datasets) (0.70.16)\n",
            "Requirement already satisfied: fsspec<=2024.12.0,>=2023.1.0 in /usr/local/lib/python3.11/dist-packages (from fsspec[http]<=2024.12.0,>=2023.1.0->datasets) (2024.12.0)\n",
            "Requirement already satisfied: aiohttp in /usr/local/lib/python3.11/dist-packages (from datasets) (3.11.15)\n",
            "Requirement already satisfied: huggingface-hub>=0.24.0 in /usr/local/lib/python3.11/dist-packages (from datasets) (0.30.2)\n",
            "Requirement already satisfied: packaging in /usr/local/lib/python3.11/dist-packages (from datasets) (24.2)\n",
            "Requirement already satisfied: pyyaml>=5.1 in /usr/local/lib/python3.11/dist-packages (from datasets) (6.0.2)\n",
            "Requirement already satisfied: aiohappyeyeballs>=2.3.0 in /usr/local/lib/python3.11/dist-packages (from aiohttp->datasets) (2.6.1)\n",
            "Requirement already satisfied: aiosignal>=1.1.2 in /usr/local/lib/python3.11/dist-packages (from aiohttp->datasets) (1.3.2)\n",
            "Requirement already satisfied: attrs>=17.3.0 in /usr/local/lib/python3.11/dist-packages (from aiohttp->datasets) (25.3.0)\n",
            "Requirement already satisfied: frozenlist>=1.1.1 in /usr/local/lib/python3.11/dist-packages (from aiohttp->datasets) (1.5.0)\n",
            "Requirement already satisfied: multidict<7.0,>=4.5 in /usr/local/lib/python3.11/dist-packages (from aiohttp->datasets) (6.4.2)\n",
            "Requirement already satisfied: propcache>=0.2.0 in /usr/local/lib/python3.11/dist-packages (from aiohttp->datasets) (0.3.1)\n",
            "Requirement already satisfied: yarl<2.0,>=1.17.0 in /usr/local/lib/python3.11/dist-packages (from aiohttp->datasets) (1.19.0)\n",
            "Requirement already satisfied: typing-extensions>=3.7.4.3 in /usr/local/lib/python3.11/dist-packages (from huggingface-hub>=0.24.0->datasets) (4.13.1)\n",
            "Requirement already satisfied: charset-normalizer<4,>=2 in /usr/local/lib/python3.11/dist-packages (from requests>=2.32.2->datasets) (3.4.1)\n",
            "Requirement already satisfied: idna<4,>=2.5 in /usr/local/lib/python3.11/dist-packages (from requests>=2.32.2->datasets) (3.10)\n",
            "Requirement already satisfied: urllib3<3,>=1.21.1 in /usr/local/lib/python3.11/dist-packages (from requests>=2.32.2->datasets) (2.3.0)\n",
            "Requirement already satisfied: certifi>=2017.4.17 in /usr/local/lib/python3.11/dist-packages (from requests>=2.32.2->datasets) (2025.1.31)\n",
            "Requirement already satisfied: python-dateutil>=2.8.2 in /usr/local/lib/python3.11/dist-packages (from pandas->datasets) (2.8.2)\n",
            "Requirement already satisfied: pytz>=2020.1 in /usr/local/lib/python3.11/dist-packages (from pandas->datasets) (2025.2)\n",
            "Requirement already satisfied: tzdata>=2022.7 in /usr/local/lib/python3.11/dist-packages (from pandas->datasets) (2025.2)\n",
            "Requirement already satisfied: six>=1.5 in /usr/local/lib/python3.11/dist-packages (from python-dateutil>=2.8.2->pandas->datasets) (1.17.0)\n"
          ]
        }
      ]
    },
    {
      "cell_type": "code",
      "source": [
        "# Initializing a ViT vit-base-patch16-224 style configuration\n",
        "configuration = ViTConfig()\n",
        "\n",
        "# Initializing a model (with random weights) from the vit-base-patch16-224 style configuration\n",
        "model = ViTModel(configuration)\n",
        "\n",
        "# Accessing the model configuration\n",
        "configuration = model.config\n",
        "print(model)"
      ],
      "metadata": {
        "colab": {
          "base_uri": "https://localhost:8080/",
          "height": 0
        },
        "id": "ssXT-_pXf0mw",
        "outputId": "987969ef-e091-497b-ff2b-b44077731977"
      },
      "execution_count": 3,
      "outputs": [
        {
          "output_type": "stream",
          "name": "stdout",
          "text": [
            "ViTModel(\n",
            "  (embeddings): ViTEmbeddings(\n",
            "    (patch_embeddings): ViTPatchEmbeddings(\n",
            "      (projection): Conv2d(3, 768, kernel_size=(16, 16), stride=(16, 16))\n",
            "    )\n",
            "    (dropout): Dropout(p=0.0, inplace=False)\n",
            "  )\n",
            "  (encoder): ViTEncoder(\n",
            "    (layer): ModuleList(\n",
            "      (0-11): 12 x ViTLayer(\n",
            "        (attention): ViTAttention(\n",
            "          (attention): ViTSelfAttention(\n",
            "            (query): Linear(in_features=768, out_features=768, bias=True)\n",
            "            (key): Linear(in_features=768, out_features=768, bias=True)\n",
            "            (value): Linear(in_features=768, out_features=768, bias=True)\n",
            "          )\n",
            "          (output): ViTSelfOutput(\n",
            "            (dense): Linear(in_features=768, out_features=768, bias=True)\n",
            "            (dropout): Dropout(p=0.0, inplace=False)\n",
            "          )\n",
            "        )\n",
            "        (intermediate): ViTIntermediate(\n",
            "          (dense): Linear(in_features=768, out_features=3072, bias=True)\n",
            "          (intermediate_act_fn): GELUActivation()\n",
            "        )\n",
            "        (output): ViTOutput(\n",
            "          (dense): Linear(in_features=3072, out_features=768, bias=True)\n",
            "          (dropout): Dropout(p=0.0, inplace=False)\n",
            "        )\n",
            "        (layernorm_before): LayerNorm((768,), eps=1e-12, elementwise_affine=True)\n",
            "        (layernorm_after): LayerNorm((768,), eps=1e-12, elementwise_affine=True)\n",
            "      )\n",
            "    )\n",
            "  )\n",
            "  (layernorm): LayerNorm((768,), eps=1e-12, elementwise_affine=True)\n",
            "  (pooler): ViTPooler(\n",
            "    (dense): Linear(in_features=768, out_features=768, bias=True)\n",
            "    (activation): Tanh()\n",
            "  )\n",
            ")\n"
          ]
        }
      ]
    },
    {
      "cell_type": "code",
      "source": [
        "from huggingface_hub import login\n",
        "login()\n",
        "from datasets import load_dataset\n",
        "import itertools\n",
        "from transformers import ViTImageProcessorFast, ViTForImageClassification\n",
        "from PIL import Image\n",
        "import requests\n",
        "from io import BytesIO\n",
        "import time"
      ],
      "metadata": {
        "colab": {
          "base_uri": "https://localhost:8080/",
          "height": 417,
          "referenced_widgets": [
            "8b54691efec244d08016eb05f4456a1e",
            "05f561e1da0a4dc7b954af0048b85eda",
            "1c855a3adef74646a17e470581b2fa29",
            "e5c9a33099ae44c4bca52687ae1e7fc6",
            "216a87b45b6449a9b8ec0c3e45ed3940",
            "a06dd8ccb8b34116b6002dca75593704",
            "c4d344b46f1d409e93c1e6a6c4bbcdfc",
            "79c79b5931534175b9f23daa7ae9653e",
            "f18ba0fa74a946c08dfd9c9d0fe8b541",
            "8c0dd30d76eb4b24afa95e39c07b381c",
            "cfab69d3a7774f1e9d3dce633a059ea4",
            "ad93ecb6b9cb456986c41b794f2ddee7",
            "ebaea7f169b1414daca7230805beb69b",
            "68e96e33967f45798d863ab08b913ddd",
            "04bce514080a494d85e29ac0b0e9388b",
            "f7cbc337012b46aaaab3641894d9f5e0",
            "b8cdc3218525457daeed61d03d6d6ccf"
          ]
        },
        "id": "otDEgzKwf27M",
        "outputId": "0c73b0cc-5a90-4316-f586-dc5cec62aa84"
      },
      "execution_count": 4,
      "outputs": [
        {
          "output_type": "display_data",
          "data": {
            "text/plain": [
              "VBox(children=(HTML(value='<center> <img\\nsrc=https://huggingface.co/front/assets/huggingface_logo-noborder.sv…"
            ],
            "application/vnd.jupyter.widget-view+json": {
              "version_major": 2,
              "version_minor": 0,
              "model_id": "8b54691efec244d08016eb05f4456a1e"
            }
          },
          "metadata": {}
        }
      ]
    },
    {
      "cell_type": "markdown",
      "source": [],
      "metadata": {
        "id": "VzNZ_emlBFh0"
      }
    },
    {
      "cell_type": "code",
      "source": [
        "\n",
        "train_ds_laion_iter = load_dataset(\"laion/laion400m\", split='train', streaming=True)\n",
        "batches = [list(itertools.islice(train_ds_laion_iter, 1)) for _ in range(1)]"
      ],
      "metadata": {
        "colab": {
          "base_uri": "https://localhost:8080/",
          "height": 49,
          "referenced_widgets": [
            "e0e0abc7fe114d88bacbb678e7e11a88",
            "ed8dfc908285477db74da6ced1cdec04",
            "d2887988dd26424fa2b987d0b1d478f5",
            "fb201ce6c8d743ee9acadfb816ca5f75",
            "c53381b9564c4fdebf9cc291496e190a",
            "c1b67d433ea7419882a6162ddd9ca998",
            "029dfe719f924ea690211311352016cd",
            "2572c3144779408e9b13fc41729acf7b",
            "c3dd4b468f5342b08e6c7f70ad7ba141",
            "ecf6908639e2461d9ebdbc769e50237a",
            "788533b3fe964fc28b5db7566122b9cf"
          ]
        },
        "id": "7B_puTGnf3-o",
        "outputId": "203b4870-74dc-4ee9-d476-a271feb549f8"
      },
      "execution_count": 5,
      "outputs": [
        {
          "output_type": "display_data",
          "data": {
            "text/plain": [
              "Resolving data files:   0%|          | 0/128 [00:00<?, ?it/s]"
            ],
            "application/vnd.jupyter.widget-view+json": {
              "version_major": 2,
              "version_minor": 0,
              "model_id": "e0e0abc7fe114d88bacbb678e7e11a88"
            }
          },
          "metadata": {}
        }
      ]
    },
    {
      "cell_type": "code",
      "source": [
        "# image processor & model\n",
        "processor = ViTImageProcessorFast.from_pretrained('google/vit-base-patch16-224')\n",
        "tf_model = ViTForImageClassification.from_pretrained('google/vit-base-patch16-224')\n",
        "\n",
        "mamba_tokenizer = AutoTokenizer.from_pretrained(\"AntonV/mamba2-130m-hf\")\n",
        "mamba_model = Mamba2Model.from_pretrained(\"AntonV/mamba2-130m-hf\")\n",
        "tok_model = Mamba2ForCausalLM.from_pretrained(\"AntonV/mamba2-130m-hf\")\n"
      ],
      "metadata": {
        "id": "3uW4xIwqgewH",
        "colab": {
          "base_uri": "https://localhost:8080/",
          "height": 0
        },
        "outputId": "4916959b-02fa-4007-e3fd-a28b8cc45ac0"
      },
      "execution_count": 6,
      "outputs": [
        {
          "output_type": "stream",
          "name": "stderr",
          "text": [
            "The fast path is not available because on of `(selective_state_update, causal_conv1d_fn, causal_conv1d_update)` is None. Falling back to the naive implementation. To install follow https://github.com/state-spaces/mamba/#installation and https://github.com/Dao-AILab/causal-conv1d\n"
          ]
        }
      ]
    },
    {
      "cell_type": "code",
      "source": [
        "def load_and_process_images(urls):\n",
        "  imgs = []\n",
        "  for url in urls:\n",
        "    try:\n",
        "        response = requests.get(url)\n",
        "        if response.status_code == 200 and 'image' in response.headers['Content-Type']:\n",
        "            img = Image.open(BytesIO(response.content)).convert(\"RGB\")\n",
        "            display(img)\n",
        "            imgs.append(img)\n",
        "        else:\n",
        "            print(f\"Skipped non-image URL: {url}\")\n",
        "    except Exception as e:\n",
        "        print(f\"Error loading {url}: {e}\")\n",
        "  return processor(images=imgs, do_resize=True, size=224, default_to_square=True, return_tensors=\"pt\")['pixel_values']\n",
        "\n",
        "\n",
        "def convert_caption_to_embedding_space(tokenizer, captions):\n",
        "  return tokenizer(captions, return_tensors=\"pt\", padding=True, truncation=True)['input_ids']\n",
        "\n",
        "def set_fake_dataloader(batches):\n",
        "  res = []\n",
        "  for batch in batches:\n",
        "    urls = []\n",
        "    captions = []\n",
        "    for item in batch:\n",
        "      urls.append(item['url'])\n",
        "      captions.append(item['caption'])\n",
        "    inputs = load_and_process_images(urls)\n",
        "    embedding_ids = convert_caption_to_embedding_space(mamba_tokenizer, captions)\n",
        "    batch_info = {\n",
        "      'pixel_values':inputs,\n",
        "      'captions': embedding_ids\n",
        "    }\n",
        "    res.append(batch_info)\n",
        "  return res\n",
        "\n",
        "\n",
        "train_dataloader = set_fake_dataloader(batches)\n",
        "#rint(train_dataloader[0])\n",
        "\n",
        "\n"
      ],
      "metadata": {
        "colab": {
          "base_uri": "https://localhost:8080/",
          "height": 237
        },
        "id": "95v8xoUfN-N-",
        "outputId": "2b47b259-6a1d-4a06-b25c-0ffd2572853c"
      },
      "execution_count": 7,
      "outputs": [
        {
          "output_type": "display_data",
          "data": {
            "text/plain": [
              "<PIL.Image.Image image mode=RGB size=277x182>"
            ],
            "image/png": "[encoded data removed]",
            "image/jpeg": "[encoded data removed]"
          },
          "metadata": {}
        },
        {
          "output_type": "stream",
          "name": "stderr",
          "text": [
            "Asking to truncate to max_length but no maximum length is provided and the model has no predefined maximum length. Default to no truncation.\n"
          ]
        }
      ]
    },
    {
      "cell_type": "code",
      "source": [],
      "metadata": {
        "id": "pcJhJasbzpZv"
      },
      "execution_count": null,
      "outputs": []
    },
    {
      "cell_type": "code",
      "source": [
        "class FusionModel(nn.Module):\n",
        "    def __init__(self, encoder, decoder, head, pad_token_id, loss=None, hidden_dim=768, bridge_dim=768):\n",
        "        super().__init__()\n",
        "        self.encoder = encoder   # e.g., ViT or BERT (frozen)\n",
        "        self.decoder = decoder   # e.g., Mamba2Model or Mamba2ForCausalLM (frozen or partially trainable)\n",
        "        self.head = head         # Mamba2CausalLM, we're going to use it's head to get output logits\n",
        "        self.pad_token_id = pad_token_id\n",
        "        self.loss = loss\n",
        "\n",
        "        # 2-layer MLP bridge: Transformer → Mamba\n",
        "        self.bridge = nn.Sequential(\n",
        "            nn.LayerNorm(hidden_dim),           # normalize TF output (per token)\n",
        "            nn.Linear(hidden_dim, bridge_dim),  # project to bridge space\n",
        "            nn.GELU(),                          # non-linearity\n",
        "            nn.Linear(bridge_dim, hidden_dim),  # project back to match Mamba input\n",
        "            nn.LayerNorm(hidden_dim)            # stabilize for Mamba\n",
        "        )\n",
        "\n",
        "    def train(self, mode: bool = True):\n",
        "        super().train(mode)  # sets self + submodules to train/eval\n",
        "\n",
        "        # # OPTIONAL: freeze encoder/decoder even when model.train(True)\n",
        "        # self.encoder.eval()  # encoder stays frozen & in eval mode\n",
        "        # for param in self.encoder.parameters():\n",
        "        #     param.requires_grad = False\n",
        "\n",
        "        # self.decoder.eval()  # decoder stays frozen & in eval mode\n",
        "        # for param in self.decoder.parameters():\n",
        "        #     param.requires_grad = False\n",
        "        return self\n",
        "\n",
        "\n",
        "    def forward(self, x=None, labels=None, **kwargs):\n",
        "        # Get transformer output\n",
        "        # with torch.no_grad():  # optionally freeze encoder\n",
        "        print(x.shape)\n",
        "        encoder_output = self.encoder(x, output_hidden_states=True)\n",
        "        # Bridge projection\n",
        "        s = encoder_output.hidden_states[-1]\n",
        "        print(s.shape)\n",
        "        bridged = self.bridge(s)  # shape: [B, T, D]\n",
        "        # Pass to Mamba decoder\n",
        "        print(bridged.shape)\n",
        "        decoder_output = self.decoder(inputs_embeds=bridged, **kwargs)\n",
        "        print(decoder_output.last_hidden_state.shape)\n",
        "        # Pass to the head to turn into logits (that we'll apply loss on)\n",
        "        logits = self.head.lm_head(decoder_output.last_hidden_state)\n",
        "\n",
        "        res = {\"logits\": logits}\n",
        "\n",
        "        # Optionally compute loss\n",
        "        loss = None\n",
        "        if labels is not None:\n",
        "            print(labels.shape)\n",
        "            print(logits.shape)\n",
        "            loss = self.loss(\n",
        "                logits,\n",
        "                labels,\n",
        "                ignore_index=self.pad_token_id  # or tokenizer.pad_token_id\n",
        "            )\n",
        "            res['loss'] = loss\n",
        "        return res\n"
      ],
      "metadata": {
        "id": "YkyMj5Vw21Ms"
      },
      "execution_count": 17,
      "outputs": []
    },
    {
      "cell_type": "code",
      "source": [
        "# Training loop\n",
        "\n",
        "epochs = 1\n",
        "train_dataloader = train_dataloader\n",
        "\n",
        "model = FusionModel(encoder=tf_model, decoder=mamba_model, head=tok_model, pad_token_id=mamba_tokenizer.pad_token_id, loss=F.cross_entropy)\n",
        "optimizer = torch.optim.AdamW(model.parameters(), lr=3e-5)\n",
        "\n",
        "num_training_steps = epochs * len(train_dataloader)\n",
        "# lr_scheduler = get_scheduler(\n",
        "#     \"linear\",\n",
        "#     optimizer=optimizer,\n",
        "#     num_warmup_steps=0,\n",
        "#     num_training_steps=num_training_steps,\n",
        "# )\n",
        "\n",
        "\n",
        "# train_dataloader = load_dataset(\"tavish-mishra/my_image_captioning_dataset\", split='train[:10%]')\n",
        "\n",
        "\n",
        "device = torch.device(\"cuda\") if torch.cuda.is_available() else torch.device(\"cpu\")\n",
        "model.to(device)\n",
        "\n",
        "progress_bar = tqdm(range(num_training_steps))\n",
        "\n",
        "\n",
        "# With padding — but using ignore_index to ignore the padded tokens during loss computation.\n",
        "\n",
        "for epoch in range(epochs):\n",
        "  for batch in train_dataloader:\n",
        "    batch = {k: v.to(device) for k, v in batch.items()}\n",
        "\n",
        "    outputs = model(x=batch['pixel_values'], labels=batch['captions'])\n",
        "    loss = outputs['loss']\n",
        "    loss.backward()\n",
        "\n",
        "    optimizer.step()\n",
        "    lr_scheduler.step()\n",
        "    optimizer.zero_grad()\n",
        "    progress_bar.update(1)\n",
        "\n",
        "\n",
        "\n",
        "\n",
        "\n",
        "\n",
        "\n",
        "\n",
        "\n",
        "\n",
        "\n"
      ],
      "metadata": {
        "colab": {
          "base_uri": "https://localhost:8080/",
          "height": 539
        },
        "id": "3tB1w1cJj0fD",
        "outputId": "626945f3-06e4-4d4b-fffe-cbaa337ff6f1"
      },
      "execution_count": 18,
      "outputs": [
        {
          "output_type": "stream",
          "name": "stderr",
          "text": [
            "\n",
            "  0%|          | 0/1 [00:13<?, ?it/s]\n"
          ]
        },
        {
          "output_type": "stream",
          "name": "stdout",
          "text": [
            "torch.Size([1, 3, 224, 224])\n",
            "torch.Size([1, 197, 768])\n",
            "torch.Size([1, 197, 768])\n",
            "torch.Size([1, 197, 768])\n",
            "torch.Size([1, 11])\n",
            "torch.Size([1, 197, 50288])\n"
          ]
        },
        {
          "output_type": "error",
          "ename": "RuntimeError",
          "evalue": "Expected target size [1, 50288], got [1, 11]",
          "traceback": [
            "\u001b[0;31m---------------------------------------------------------------------------\u001b[0m",
            "\u001b[0;31mRuntimeError\u001b[0m                              Traceback (most recent call last)",
            "\u001b[0;32m<ipython-input-18-258c8e5c6580>\u001b[0m in \u001b[0;36m<cell line: 0>\u001b[0;34m()\u001b[0m\n\u001b[1;32m     31\u001b[0m     \u001b[0mbatch\u001b[0m \u001b[0;34m=\u001b[0m \u001b[0;34m{\u001b[0m\u001b[0mk\u001b[0m\u001b[0;34m:\u001b[0m \u001b[0mv\u001b[0m\u001b[0;34m.\u001b[0m\u001b[0mto\u001b[0m\u001b[0;34m(\u001b[0m\u001b[0mdevice\u001b[0m\u001b[0;34m)\u001b[0m \u001b[0;32mfor\u001b[0m \u001b[0mk\u001b[0m\u001b[0;34m,\u001b[0m \u001b[0mv\u001b[0m \u001b[0;32min\u001b[0m \u001b[0mbatch\u001b[0m\u001b[0;34m.\u001b[0m\u001b[0mitems\u001b[0m\u001b[0;34m(\u001b[0m\u001b[0;34m)\u001b[0m\u001b[0;34m}\u001b[0m\u001b[0;34m\u001b[0m\u001b[0;34m\u001b[0m\u001b[0m\n\u001b[1;32m     32\u001b[0m \u001b[0;34m\u001b[0m\u001b[0m\n\u001b[0;32m---> 33\u001b[0;31m     \u001b[0moutputs\u001b[0m \u001b[0;34m=\u001b[0m \u001b[0mmodel\u001b[0m\u001b[0;34m(\u001b[0m\u001b[0mx\u001b[0m\u001b[0;34m=\u001b[0m\u001b[0mbatch\u001b[0m\u001b[0;34m[\u001b[0m\u001b[0;34m'pixel_values'\u001b[0m\u001b[0;34m]\u001b[0m\u001b[0;34m,\u001b[0m \u001b[0mlabels\u001b[0m\u001b[0;34m=\u001b[0m\u001b[0mbatch\u001b[0m\u001b[0;34m[\u001b[0m\u001b[0;34m'captions'\u001b[0m\u001b[0;34m]\u001b[0m\u001b[0;34m)\u001b[0m\u001b[0;34m\u001b[0m\u001b[0;34m\u001b[0m\u001b[0m\n\u001b[0m\u001b[1;32m     34\u001b[0m     \u001b[0mloss\u001b[0m \u001b[0;34m=\u001b[0m \u001b[0moutputs\u001b[0m\u001b[0;34m[\u001b[0m\u001b[0;34m'loss'\u001b[0m\u001b[0;34m]\u001b[0m\u001b[0;34m\u001b[0m\u001b[0;34m\u001b[0m\u001b[0m\n\u001b[1;32m     35\u001b[0m     \u001b[0mloss\u001b[0m\u001b[0;34m.\u001b[0m\u001b[0mbackward\u001b[0m\u001b[0;34m(\u001b[0m\u001b[0;34m)\u001b[0m\u001b[0;34m\u001b[0m\u001b[0;34m\u001b[0m\u001b[0m\n",
            "\u001b[0;32m/usr/local/lib/python3.11/dist-packages/torch/nn/modules/module.py\u001b[0m in \u001b[0;36m_wrapped_call_impl\u001b[0;34m(self, *args, **kwargs)\u001b[0m\n\u001b[1;32m   1737\u001b[0m             \u001b[0;32mreturn\u001b[0m \u001b[0mself\u001b[0m\u001b[0;34m.\u001b[0m\u001b[0m_compiled_call_impl\u001b[0m\u001b[0;34m(\u001b[0m\u001b[0;34m*\u001b[0m\u001b[0margs\u001b[0m\u001b[0;34m,\u001b[0m \u001b[0;34m**\u001b[0m\u001b[0mkwargs\u001b[0m\u001b[0;34m)\u001b[0m  \u001b[0;31m# type: ignore[misc]\u001b[0m\u001b[0;34m\u001b[0m\u001b[0;34m\u001b[0m\u001b[0m\n\u001b[1;32m   1738\u001b[0m         \u001b[0;32melse\u001b[0m\u001b[0;34m:\u001b[0m\u001b[0;34m\u001b[0m\u001b[0;34m\u001b[0m\u001b[0m\n\u001b[0;32m-> 1739\u001b[0;31m             \u001b[0;32mreturn\u001b[0m \u001b[0mself\u001b[0m\u001b[0;34m.\u001b[0m\u001b[0m_call_impl\u001b[0m\u001b[0;34m(\u001b[0m\u001b[0;34m*\u001b[0m\u001b[0margs\u001b[0m\u001b[0;34m,\u001b[0m \u001b[0;34m**\u001b[0m\u001b[0mkwargs\u001b[0m\u001b[0;34m)\u001b[0m\u001b[0;34m\u001b[0m\u001b[0;34m\u001b[0m\u001b[0m\n\u001b[0m\u001b[1;32m   1740\u001b[0m \u001b[0;34m\u001b[0m\u001b[0m\n\u001b[1;32m   1741\u001b[0m     \u001b[0;31m# torchrec tests the code consistency with the following code\u001b[0m\u001b[0;34m\u001b[0m\u001b[0;34m\u001b[0m\u001b[0m\n",
            "\u001b[0;32m/usr/local/lib/python3.11/dist-packages/torch/nn/modules/module.py\u001b[0m in \u001b[0;36m_call_impl\u001b[0;34m(self, *args, **kwargs)\u001b[0m\n\u001b[1;32m   1748\u001b[0m                 \u001b[0;32mor\u001b[0m \u001b[0m_global_backward_pre_hooks\u001b[0m \u001b[0;32mor\u001b[0m \u001b[0m_global_backward_hooks\u001b[0m\u001b[0;34m\u001b[0m\u001b[0;34m\u001b[0m\u001b[0m\n\u001b[1;32m   1749\u001b[0m                 or _global_forward_hooks or _global_forward_pre_hooks):\n\u001b[0;32m-> 1750\u001b[0;31m             \u001b[0;32mreturn\u001b[0m \u001b[0mforward_call\u001b[0m\u001b[0;34m(\u001b[0m\u001b[0;34m*\u001b[0m\u001b[0margs\u001b[0m\u001b[0;34m,\u001b[0m \u001b[0;34m**\u001b[0m\u001b[0mkwargs\u001b[0m\u001b[0;34m)\u001b[0m\u001b[0;34m\u001b[0m\u001b[0;34m\u001b[0m\u001b[0m\n\u001b[0m\u001b[1;32m   1751\u001b[0m \u001b[0;34m\u001b[0m\u001b[0m\n\u001b[1;32m   1752\u001b[0m         \u001b[0mresult\u001b[0m \u001b[0;34m=\u001b[0m \u001b[0;32mNone\u001b[0m\u001b[0;34m\u001b[0m\u001b[0;34m\u001b[0m\u001b[0m\n",
            "\u001b[0;32m<ipython-input-17-ab5d1aad7532>\u001b[0m in \u001b[0;36mforward\u001b[0;34m(self, x, labels, **kwargs)\u001b[0m\n\u001b[1;32m     54\u001b[0m             \u001b[0mprint\u001b[0m\u001b[0;34m(\u001b[0m\u001b[0mlabels\u001b[0m\u001b[0;34m.\u001b[0m\u001b[0mshape\u001b[0m\u001b[0;34m)\u001b[0m\u001b[0;34m\u001b[0m\u001b[0;34m\u001b[0m\u001b[0m\n\u001b[1;32m     55\u001b[0m             \u001b[0mprint\u001b[0m\u001b[0;34m(\u001b[0m\u001b[0mlogits\u001b[0m\u001b[0;34m.\u001b[0m\u001b[0mshape\u001b[0m\u001b[0;34m)\u001b[0m\u001b[0;34m\u001b[0m\u001b[0;34m\u001b[0m\u001b[0m\n\u001b[0;32m---> 56\u001b[0;31m             loss = self.loss(\n\u001b[0m\u001b[1;32m     57\u001b[0m                 \u001b[0mlogits\u001b[0m\u001b[0;34m,\u001b[0m\u001b[0;34m\u001b[0m\u001b[0;34m\u001b[0m\u001b[0m\n\u001b[1;32m     58\u001b[0m                 \u001b[0mlabels\u001b[0m\u001b[0;34m,\u001b[0m\u001b[0;34m\u001b[0m\u001b[0;34m\u001b[0m\u001b[0m\n",
            "\u001b[0;32m/usr/local/lib/python3.11/dist-packages/torch/nn/functional.py\u001b[0m in \u001b[0;36mcross_entropy\u001b[0;34m(input, target, weight, size_average, ignore_index, reduce, reduction, label_smoothing)\u001b[0m\n\u001b[1;32m   3492\u001b[0m     \u001b[0;32mif\u001b[0m \u001b[0msize_average\u001b[0m \u001b[0;32mis\u001b[0m \u001b[0;32mnot\u001b[0m \u001b[0;32mNone\u001b[0m \u001b[0;32mor\u001b[0m \u001b[0mreduce\u001b[0m \u001b[0;32mis\u001b[0m \u001b[0;32mnot\u001b[0m \u001b[0;32mNone\u001b[0m\u001b[0;34m:\u001b[0m\u001b[0;34m\u001b[0m\u001b[0;34m\u001b[0m\u001b[0m\n\u001b[1;32m   3493\u001b[0m         \u001b[0mreduction\u001b[0m \u001b[0;34m=\u001b[0m \u001b[0m_Reduction\u001b[0m\u001b[0;34m.\u001b[0m\u001b[0mlegacy_get_string\u001b[0m\u001b[0;34m(\u001b[0m\u001b[0msize_average\u001b[0m\u001b[0;34m,\u001b[0m \u001b[0mreduce\u001b[0m\u001b[0;34m)\u001b[0m\u001b[0;34m\u001b[0m\u001b[0;34m\u001b[0m\u001b[0m\n\u001b[0;32m-> 3494\u001b[0;31m     return torch._C._nn.cross_entropy_loss(\n\u001b[0m\u001b[1;32m   3495\u001b[0m         \u001b[0minput\u001b[0m\u001b[0;34m,\u001b[0m\u001b[0;34m\u001b[0m\u001b[0;34m\u001b[0m\u001b[0m\n\u001b[1;32m   3496\u001b[0m         \u001b[0mtarget\u001b[0m\u001b[0;34m,\u001b[0m\u001b[0;34m\u001b[0m\u001b[0;34m\u001b[0m\u001b[0m\n",
            "\u001b[0;31mRuntimeError\u001b[0m: Expected target size [1, 50288], got [1, 11]"
          ]
        }
      ]
    },
    {
      "cell_type": "code",
      "source": [
        "# Testing TF functionality: Predicting the top 10 classes\n",
        "logits = outputs.logits\n",
        "probs = F.softmax(logits, dim=-1)\n",
        "top_probs, top_indices = torch.topk(probs, k=10)\n",
        "\n",
        "print(\"Top 10 predicted classes:\")\n",
        "for i in range(len(images)):\n",
        "  for j in range(10):\n",
        "      idx = top_indices[i][j].item() if top_indices.dim() == 2 else top_indices[i].item()\n",
        "      prob = top_probs[i][j].item() if top_probs.dim() == 2 else top_probs[i].item()\n",
        "      label = model.config.id2label.get(idx, f\"Class {idx}\")\n",
        "      print(f\"{i+1}. {label} ({prob:.4f})\")\n",
        "  print()"
      ],
      "metadata": {
        "id": "knO6xKKo020a"
      },
      "execution_count": null,
      "outputs": []
    },
    {
      "cell_type": "code",
      "source": [
        "'''\n",
        "Tokens are laid out like this:\n",
        "\n",
        "[\n",
        "  [CLS],  # index 0\n",
        "  patch(0,0), patch(0,1), ..., patch(0,13),\n",
        "  patch(1,0), patch(1,1), ..., patch(1,13),\n",
        "  ...\n",
        "  patch(13,13)  # index 196\n",
        "]\n",
        "\n",
        "'''\n",
        "\n",
        "print(outputs.__dict__.keys())\n",
        "# shape of the models outputs (ex: z1...zn-1, z(cls)) for a singular image\n",
        "print(outputs.hidden_states[-1].shape)"
      ],
      "metadata": {
        "id": "H3p-px00j9SD"
      },
      "execution_count": null,
      "outputs": []
    },
    {
      "cell_type": "code",
      "source": [
        "# Restructure the image.\n",
        "\n",
        "z = outputs.hidden_states[-1]\n",
        "batch_size, num_z_values, embedding_dim = z.shape\n",
        "\n",
        "num_patches = num_z_values - 1\n",
        "grid_dim = round(num_patches ** 0.5)\n",
        "\n",
        "z_cls = z[:,0:1,:]\n",
        "z_image = z[:,1:,:].view(batch_size, grid_dim, grid_dim, embedding_dim)\n",
        "\n",
        "print(z_image.shape)\n",
        "print(z_cls.shape)"
      ],
      "metadata": {
        "id": "gcjJ7aBikBHK"
      },
      "execution_count": null,
      "outputs": []
    },
    {
      "cell_type": "code",
      "source": [
        "# TODO: come back to zigzags later\n",
        "\n",
        "\n",
        "# def horizontal_zigzag_forward(z):\n",
        "#     # Left to right zigzag across rows\n",
        "#     return torch.stack([\n",
        "#         row if i % 2 == 0 else torch.flip(row, dims=[0])\n",
        "#         for i, row in enumerate(z)\n",
        "#     ])\n",
        "\n",
        "# def horizontal_zigzag_backward(z):\n",
        "#     # Right to left zigzag across rows (reverse direction of above)\n",
        "#     return torch.stack([\n",
        "#         torch.flip(row, dims=[0]) if i % 2 == 0 else row\n",
        "#         for i, row in enumerate(torch.flip(z, dims=[0]))\n",
        "#     ])\n",
        "\n",
        "# def vertical_zigzag_downward(z):\n",
        "#     # Top to bottom zigzag across columns\n",
        "#     return torch.stack([\n",
        "#         col if i % 2 == 0 else torch.flip(col, dims=[0])\n",
        "#         for i, col in enumerate(z.permute(1, 0, 2))\n",
        "#     ]).permute(1, 0, 2)\n",
        "\n",
        "# def vertical_zigzag_upward(z):\n",
        "#     # Bottom to top zigzag across columns (reverse direction of above)\n",
        "#     return torch.stack([\n",
        "#         torch.flip(col, dims=[0]) if i % 2 == 0 else col\n",
        "#         for i, col in enumerate(torch.flip(z.permute(1, 0, 2), dims=[0]))\n",
        "#     ]).permute(1, 0, 2)"
      ],
      "metadata": {
        "id": "HY3USYe6kDOy"
      },
      "execution_count": null,
      "outputs": []
    },
    {
      "cell_type": "code",
      "source": [
        "# z1 = horizontal_zigzag_forward(z_image).reshape(batch_size, -1, embedding_dim)\n",
        "# z2 = horizontal_zigzag_backward(z_image).reshape(batch_size, -1, embedding_dim)\n",
        "# z3 = vertical_zigzag_downward(z_image).reshape(batch_size, -1, embedding_dim)\n",
        "# z4 = vertical_zigzag_upward(z_image).reshape(batch_size, -1, embedding_dim)\n"
      ],
      "metadata": {
        "id": "H0Ylvav6kKQ_"
      },
      "execution_count": null,
      "outputs": []
    },
    {
      "cell_type": "code",
      "source": [
        "# figure out how get z_cls back into the mix (z_cls is a summary with global context over the image!!)\n",
        "# z1_cls = torch.cat([z_cls, z1], dim=1)\n",
        "# z2_cls = torch.cat([z_cls, z2], dim=1)\n",
        "# z3_cls = torch.cat([z_cls, z3], dim=1)\n",
        "# z4_cls = torch.cat([z_cls, z4], dim=1)"
      ],
      "metadata": {
        "id": "emzUl5CqkPej"
      },
      "execution_count": null,
      "outputs": []
    },
    {
      "cell_type": "code",
      "source": [
        "# combine and normalize\n",
        "# combined = z + z1_cls + z2_cls + z3_cls + z4_cls\n",
        "combined = z"
      ],
      "metadata": {
        "id": "DWkYNa4DkQLD"
      },
      "execution_count": null,
      "outputs": []
    },
    {
      "cell_type": "code",
      "source": [
        "print(combined.shape)"
      ],
      "metadata": {
        "id": "ec1-rB5zkRqx"
      },
      "execution_count": null,
      "outputs": []
    },
    {
      "cell_type": "code",
      "source": [
        "# TODO: run a linear layer + normalize\n",
        "# Feed into the model directly.\n",
        "\n",
        "\n",
        "\n",
        "print(model)"
      ],
      "metadata": {
        "id": "hP7TAGeMl8Fe"
      },
      "execution_count": null,
      "outputs": []
    },
    {
      "cell_type": "code",
      "source": [
        "prompts = [\"CAT, BAT, PAT, ___\", \"ONE, TWO, THREE, ___\", \"TESTING, TRAINING, ...\"]\n",
        "inputs = tokenizer(prompts, return_tensors=\"pt\", padding=True, truncation=True, return_attention_mask=True)\n",
        "# input_ids = tokenized_input[\"input_ids\"]\n",
        "# attention_mask = tokenized_input[\"attention_mask\"]\n",
        "embeddings = model.embeddings(inputs[\"input_ids\"])\n",
        "print(embeddings.shape)\n",
        "embeddings = combined"
      ],
      "metadata": {
        "id": "Q9inOo3uqCd5"
      },
      "execution_count": null,
      "outputs": []
    },
    {
      "cell_type": "code",
      "source": [
        "output = model(inputs_embeds=embeddings)"
      ],
      "metadata": {
        "id": "uxBv9IwWv2Lr"
      },
      "execution_count": null,
      "outputs": []
    },
    {
      "cell_type": "markdown",
      "source": [],
      "metadata": {
        "id": "pqntHk5pvDkz"
      }
    },
    {
      "cell_type": "code",
      "source": [
        "# Use the lm_head to get logits from hidden states\n",
        "# we can use the decoder from the Mamba2ForCausalLM to get some string. Model already pretrained on\n",
        "# this embedding space so it makes sense to keep this.\n",
        "\n",
        "# convert the expect caption to vector and run cosine similarity on the output of the model\n",
        "logits = model_for_tok.lm_head(output.last_hidden_state)\n",
        "token_ids = logits.argmax(dim=-1)\n",
        "text = tokenizer.batch_decode(token_ids, skip_special_tokens=True)\n",
        "print(len(text))\n",
        "print(text)"
      ],
      "metadata": {
        "id": "-RFhDNVCub1M"
      },
      "execution_count": null,
      "outputs": []
    },
    {
      "cell_type": "code",
      "source": [
        "\"\"\"\n",
        "Trial 1: ['- and, and, and\\n', '_\\n, THREE, FOUR\\n', '_ THE\\nINING, AND\\n']\n",
        "\n",
        "trial 2: ['\\nAL the, BAT, and\\n', '\\n OF\\n, THREE, FOUR\\n', '_ THE\\nINING, AND\\n']\n",
        "\n",
        "\n",
        "I noticed tha\n",
        "\n",
        "\n",
        "\"\"\""
      ],
      "metadata": {
        "id": "_JzVaa6azZ8n"
      },
      "execution_count": null,
      "outputs": []
    },
    {
      "cell_type": "code",
      "source": [
        "# Garbage cleanup\n",
        "import gc; gc.collect()"
      ],
      "metadata": {
        "id": "dw0AfWft40QU",
        "colab": {
          "base_uri": "https://localhost:8080/",
          "height": 0
        },
        "outputId": "703dea0b-e2c8-438e-ee8b-489e125857b6"
      },
      "execution_count": 10,
      "outputs": [
        {
          "output_type": "execute_result",
          "data": {
            "text/plain": [
              "38"
            ]
          },
          "metadata": {},
          "execution_count": 10
        }
      ]
    },
    {
      "cell_type": "code",
      "source": [
        "# del images, outputs, logits, probs, top_probs, top_indices\n",
        "# del z, z_cls, z_image, combined, logits,\n",
        "del token_ids, text, embeddings, inputs"
      ],
      "metadata": {
        "id": "nMM9gNrs_Euu"
      },
      "execution_count": null,
      "outputs": []
    },
    {
      "cell_type": "code",
      "source": [],
      "metadata": {
        "id": "66ItCeg8_H93"
      },
      "execution_count": null,
      "outputs": []
    },
    {
      "cell_type": "code",
      "source": [],
      "metadata": {
        "id": "PftXoAOW_JMy"
      },
      "execution_count": null,
      "outputs": []
    }
  ]
}